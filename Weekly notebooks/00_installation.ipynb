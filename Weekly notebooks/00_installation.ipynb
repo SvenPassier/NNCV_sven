{
 "cells": [
  {
   "cell_type": "markdown",
   "id": "f2694980",
   "metadata": {},
   "source": [
    "**Disclaimer**<br> This installation is only designed for the course and not recommended for daily use.<br>It is **not** (practically) possible to install libraries on a virtual environment for Jupyter - everything is installed directly on your home directory.<br><br>\n",
    "\n",
    "**Why do you need a separate notebook for installation?**<br>\n",
    "When you open a notebook you are in the end submitting a job, so you cannot install packages for the loaded and use them \"on the fly\" in the same interactive session.<br>\n",
    "Once this is installed, you may close installation notebook, and when you open another notebook with the same module, installed libraries should work."
   ]
  },
  {
   "cell_type": "code",
   "execution_count": 1,
   "id": "af1510ca-0225-4950-990b-b174ce5e9869",
   "metadata": {},
   "outputs": [
    {
     "name": "stdout",
     "output_type": "stream",
     "text": [
      "Requirement already satisfied: pip in c:\\users\\20192420\\appdata\\local\\anaconda3\\envs\\5lsm0_env\\lib\\site-packages (25.0)\n",
      "Collecting pip\n",
      "  Downloading pip-25.0.1-py3-none-any.whl.metadata (3.7 kB)\n",
      "Downloading pip-25.0.1-py3-none-any.whl (1.8 MB)\n",
      "   ---------------------------------------- 0.0/1.8 MB ? eta -:--:--\n",
      "   ---------------------------------------- 1.8/1.8 MB 11.3 MB/s eta 0:00:00\n"
     ]
    },
    {
     "name": "stderr",
     "output_type": "stream",
     "text": [
      "ERROR: To modify pip, please run the following command:\n",
      "C:\\Users\\20192420\\AppData\\Local\\anaconda3\\envs\\5LSM0_env\\python.exe -m pip install --upgrade pip\n"
     ]
    }
   ],
   "source": [
    "! pip3 install --upgrade pip"
   ]
  },
  {
   "cell_type": "code",
   "execution_count": 2,
   "id": "99a35459-5d9e-416c-9580-eb0305f5ea06",
   "metadata": {},
   "outputs": [
    {
     "name": "stdout",
     "output_type": "stream",
     "text": [
      "Looking in links: https://download.pytorch.org/whl/torch_stable.html\n",
      "Requirement already satisfied: torch in c:\\users\\20192420\\appdata\\local\\anaconda3\\envs\\5lsm0_env\\lib\\site-packages (from -r requirements.txt (line 2)) (2.5.1)\n",
      "Requirement already satisfied: torchvision in c:\\users\\20192420\\appdata\\local\\anaconda3\\envs\\5lsm0_env\\lib\\site-packages (from -r requirements.txt (line 3)) (0.20.1)\n",
      "Requirement already satisfied: torchaudio in c:\\users\\20192420\\appdata\\local\\anaconda3\\envs\\5lsm0_env\\lib\\site-packages (from -r requirements.txt (line 4)) (2.5.1)\n",
      "Requirement already satisfied: numpy in c:\\users\\20192420\\appdata\\local\\anaconda3\\envs\\5lsm0_env\\lib\\site-packages (from -r requirements.txt (line 5)) (2.0.1)\n",
      "Requirement already satisfied: pandas in c:\\users\\20192420\\appdata\\local\\anaconda3\\envs\\5lsm0_env\\lib\\site-packages (from -r requirements.txt (line 6)) (2.2.3)\n",
      "Requirement already satisfied: scikit-image in c:\\users\\20192420\\appdata\\local\\anaconda3\\envs\\5lsm0_env\\lib\\site-packages (from -r requirements.txt (line 7)) (0.25.2)\n",
      "Requirement already satisfied: scikit-learn in c:\\users\\20192420\\appdata\\local\\anaconda3\\envs\\5lsm0_env\\lib\\site-packages (from -r requirements.txt (line 8)) (1.6.1)\n",
      "Requirement already satisfied: scipy in c:\\users\\20192420\\appdata\\local\\anaconda3\\envs\\5lsm0_env\\lib\\site-packages (from -r requirements.txt (line 9)) (1.15.2)\n",
      "Requirement already satisfied: opencv-python in c:\\users\\20192420\\appdata\\local\\anaconda3\\envs\\5lsm0_env\\lib\\site-packages (from -r requirements.txt (line 10)) (4.11.0.86)\n",
      "Requirement already satisfied: matplotlib in c:\\users\\20192420\\appdata\\local\\anaconda3\\envs\\5lsm0_env\\lib\\site-packages (from -r requirements.txt (line 11)) (3.10.1)\n",
      "Requirement already satisfied: seaborn in c:\\users\\20192420\\appdata\\local\\anaconda3\\envs\\5lsm0_env\\lib\\site-packages (from -r requirements.txt (line 12)) (0.13.2)\n",
      "Requirement already satisfied: wandb in c:\\users\\20192420\\appdata\\local\\anaconda3\\envs\\5lsm0_env\\lib\\site-packages (from -r requirements.txt (line 13)) (0.19.8)\n",
      "Requirement already satisfied: tqdm in c:\\users\\20192420\\appdata\\local\\anaconda3\\envs\\5lsm0_env\\lib\\site-packages (from -r requirements.txt (line 14)) (4.67.1)\n",
      "Requirement already satisfied: filelock in c:\\users\\20192420\\appdata\\local\\anaconda3\\envs\\5lsm0_env\\lib\\site-packages (from torch->-r requirements.txt (line 2)) (3.13.1)\n",
      "Requirement already satisfied: typing-extensions>=4.8.0 in c:\\users\\20192420\\appdata\\local\\anaconda3\\envs\\5lsm0_env\\lib\\site-packages (from torch->-r requirements.txt (line 2)) (4.12.2)\n",
      "Collecting sympy==1.13.1 (from torch->-r requirements.txt (line 2))\n",
      "  Using cached sympy-1.13.1-py3-none-any.whl.metadata (12 kB)\n",
      "Requirement already satisfied: networkx in c:\\users\\20192420\\appdata\\local\\anaconda3\\envs\\5lsm0_env\\lib\\site-packages (from torch->-r requirements.txt (line 2)) (3.4.2)\n",
      "Requirement already satisfied: jinja2 in c:\\users\\20192420\\appdata\\local\\anaconda3\\envs\\5lsm0_env\\lib\\site-packages (from torch->-r requirements.txt (line 2)) (3.1.5)\n",
      "Collecting fsspec (from torch->-r requirements.txt (line 2))\n",
      "  Downloading fsspec-2025.3.0-py3-none-any.whl.metadata (11 kB)\n",
      "Requirement already satisfied: mpmath<1.4,>=1.1.0 in c:\\users\\20192420\\appdata\\local\\anaconda3\\envs\\5lsm0_env\\lib\\site-packages (from sympy==1.13.1->torch->-r requirements.txt (line 2)) (1.3.0)\n",
      "Requirement already satisfied: pillow!=8.3.*,>=5.3.0 in c:\\users\\20192420\\appdata\\local\\anaconda3\\envs\\5lsm0_env\\lib\\site-packages (from torchvision->-r requirements.txt (line 3)) (11.1.0)\n",
      "Requirement already satisfied: python-dateutil>=2.8.2 in c:\\users\\20192420\\appdata\\local\\anaconda3\\envs\\5lsm0_env\\lib\\site-packages (from pandas->-r requirements.txt (line 6)) (2.9.0.post0)\n",
      "Requirement already satisfied: pytz>=2020.1 in c:\\users\\20192420\\appdata\\local\\anaconda3\\envs\\5lsm0_env\\lib\\site-packages (from pandas->-r requirements.txt (line 6)) (2025.1)\n",
      "Requirement already satisfied: tzdata>=2022.7 in c:\\users\\20192420\\appdata\\local\\anaconda3\\envs\\5lsm0_env\\lib\\site-packages (from pandas->-r requirements.txt (line 6)) (2025.1)\n",
      "Requirement already satisfied: imageio!=2.35.0,>=2.33 in c:\\users\\20192420\\appdata\\local\\anaconda3\\envs\\5lsm0_env\\lib\\site-packages (from scikit-image->-r requirements.txt (line 7)) (2.37.0)\n",
      "Requirement already satisfied: tifffile>=2022.8.12 in c:\\users\\20192420\\appdata\\local\\anaconda3\\envs\\5lsm0_env\\lib\\site-packages (from scikit-image->-r requirements.txt (line 7)) (2025.2.18)\n",
      "Requirement already satisfied: packaging>=21 in c:\\users\\20192420\\appdata\\local\\anaconda3\\envs\\5lsm0_env\\lib\\site-packages (from scikit-image->-r requirements.txt (line 7)) (24.2)\n",
      "Requirement already satisfied: lazy-loader>=0.4 in c:\\users\\20192420\\appdata\\local\\anaconda3\\envs\\5lsm0_env\\lib\\site-packages (from scikit-image->-r requirements.txt (line 7)) (0.4)\n",
      "Requirement already satisfied: joblib>=1.2.0 in c:\\users\\20192420\\appdata\\local\\anaconda3\\envs\\5lsm0_env\\lib\\site-packages (from scikit-learn->-r requirements.txt (line 8)) (1.4.2)\n",
      "Requirement already satisfied: threadpoolctl>=3.1.0 in c:\\users\\20192420\\appdata\\local\\anaconda3\\envs\\5lsm0_env\\lib\\site-packages (from scikit-learn->-r requirements.txt (line 8)) (3.5.0)\n",
      "Requirement already satisfied: contourpy>=1.0.1 in c:\\users\\20192420\\appdata\\local\\anaconda3\\envs\\5lsm0_env\\lib\\site-packages (from matplotlib->-r requirements.txt (line 11)) (1.3.1)\n",
      "Requirement already satisfied: cycler>=0.10 in c:\\users\\20192420\\appdata\\local\\anaconda3\\envs\\5lsm0_env\\lib\\site-packages (from matplotlib->-r requirements.txt (line 11)) (0.12.1)\n",
      "Requirement already satisfied: fonttools>=4.22.0 in c:\\users\\20192420\\appdata\\local\\anaconda3\\envs\\5lsm0_env\\lib\\site-packages (from matplotlib->-r requirements.txt (line 11)) (4.56.0)\n",
      "Requirement already satisfied: kiwisolver>=1.3.1 in c:\\users\\20192420\\appdata\\local\\anaconda3\\envs\\5lsm0_env\\lib\\site-packages (from matplotlib->-r requirements.txt (line 11)) (1.4.8)\n",
      "Requirement already satisfied: pyparsing>=2.3.1 in c:\\users\\20192420\\appdata\\local\\anaconda3\\envs\\5lsm0_env\\lib\\site-packages (from matplotlib->-r requirements.txt (line 11)) (3.2.1)\n",
      "Requirement already satisfied: click!=8.0.0,>=7.1 in c:\\users\\20192420\\appdata\\local\\anaconda3\\envs\\5lsm0_env\\lib\\site-packages (from wandb->-r requirements.txt (line 13)) (8.1.8)\n",
      "Requirement already satisfied: docker-pycreds>=0.4.0 in c:\\users\\20192420\\appdata\\local\\anaconda3\\envs\\5lsm0_env\\lib\\site-packages (from wandb->-r requirements.txt (line 13)) (0.4.0)\n",
      "Requirement already satisfied: gitpython!=3.1.29,>=1.0.0 in c:\\users\\20192420\\appdata\\local\\anaconda3\\envs\\5lsm0_env\\lib\\site-packages (from wandb->-r requirements.txt (line 13)) (3.1.44)\n",
      "Requirement already satisfied: platformdirs in c:\\users\\20192420\\appdata\\local\\anaconda3\\envs\\5lsm0_env\\lib\\site-packages (from wandb->-r requirements.txt (line 13)) (4.3.6)\n",
      "Requirement already satisfied: protobuf!=4.21.0,!=5.28.0,<6,>=3.19.0 in c:\\users\\20192420\\appdata\\local\\anaconda3\\envs\\5lsm0_env\\lib\\site-packages (from wandb->-r requirements.txt (line 13)) (5.29.3)\n",
      "Requirement already satisfied: psutil>=5.0.0 in c:\\users\\20192420\\appdata\\local\\anaconda3\\envs\\5lsm0_env\\lib\\site-packages (from wandb->-r requirements.txt (line 13)) (7.0.0)\n",
      "Requirement already satisfied: pydantic<3,>=2.6 in c:\\users\\20192420\\appdata\\local\\anaconda3\\envs\\5lsm0_env\\lib\\site-packages (from wandb->-r requirements.txt (line 13)) (2.10.6)\n",
      "Requirement already satisfied: pyyaml in c:\\users\\20192420\\appdata\\local\\anaconda3\\envs\\5lsm0_env\\lib\\site-packages (from wandb->-r requirements.txt (line 13)) (6.0.2)\n",
      "Requirement already satisfied: requests<3,>=2.0.0 in c:\\users\\20192420\\appdata\\local\\anaconda3\\envs\\5lsm0_env\\lib\\site-packages (from wandb->-r requirements.txt (line 13)) (2.32.3)\n",
      "Requirement already satisfied: sentry-sdk>=2.0.0 in c:\\users\\20192420\\appdata\\local\\anaconda3\\envs\\5lsm0_env\\lib\\site-packages (from wandb->-r requirements.txt (line 13)) (2.22.0)\n",
      "Requirement already satisfied: setproctitle in c:\\users\\20192420\\appdata\\local\\anaconda3\\envs\\5lsm0_env\\lib\\site-packages (from wandb->-r requirements.txt (line 13)) (1.3.5)\n",
      "Requirement already satisfied: setuptools in c:\\users\\20192420\\appdata\\local\\anaconda3\\envs\\5lsm0_env\\lib\\site-packages (from wandb->-r requirements.txt (line 13)) (75.8.0)\n",
      "Requirement already satisfied: colorama in c:\\users\\20192420\\appdata\\local\\anaconda3\\envs\\5lsm0_env\\lib\\site-packages (from tqdm->-r requirements.txt (line 14)) (0.4.6)\n",
      "Requirement already satisfied: six>=1.4.0 in c:\\users\\20192420\\appdata\\local\\anaconda3\\envs\\5lsm0_env\\lib\\site-packages (from docker-pycreds>=0.4.0->wandb->-r requirements.txt (line 13)) (1.17.0)\n",
      "Requirement already satisfied: gitdb<5,>=4.0.1 in c:\\users\\20192420\\appdata\\local\\anaconda3\\envs\\5lsm0_env\\lib\\site-packages (from gitpython!=3.1.29,>=1.0.0->wandb->-r requirements.txt (line 13)) (4.0.12)\n",
      "Requirement already satisfied: annotated-types>=0.6.0 in c:\\users\\20192420\\appdata\\local\\anaconda3\\envs\\5lsm0_env\\lib\\site-packages (from pydantic<3,>=2.6->wandb->-r requirements.txt (line 13)) (0.7.0)\n",
      "Requirement already satisfied: pydantic-core==2.27.2 in c:\\users\\20192420\\appdata\\local\\anaconda3\\envs\\5lsm0_env\\lib\\site-packages (from pydantic<3,>=2.6->wandb->-r requirements.txt (line 13)) (2.27.2)\n",
      "Requirement already satisfied: charset-normalizer<4,>=2 in c:\\users\\20192420\\appdata\\local\\anaconda3\\envs\\5lsm0_env\\lib\\site-packages (from requests<3,>=2.0.0->wandb->-r requirements.txt (line 13)) (3.3.2)\n",
      "Requirement already satisfied: idna<4,>=2.5 in c:\\users\\20192420\\appdata\\local\\anaconda3\\envs\\5lsm0_env\\lib\\site-packages (from requests<3,>=2.0.0->wandb->-r requirements.txt (line 13)) (3.7)\n",
      "Requirement already satisfied: urllib3<3,>=1.21.1 in c:\\users\\20192420\\appdata\\local\\anaconda3\\envs\\5lsm0_env\\lib\\site-packages (from requests<3,>=2.0.0->wandb->-r requirements.txt (line 13)) (2.3.0)\n",
      "Requirement already satisfied: certifi>=2017.4.17 in c:\\users\\20192420\\appdata\\local\\anaconda3\\envs\\5lsm0_env\\lib\\site-packages (from requests<3,>=2.0.0->wandb->-r requirements.txt (line 13)) (2025.1.31)\n",
      "Requirement already satisfied: MarkupSafe>=2.0 in c:\\users\\20192420\\appdata\\local\\anaconda3\\envs\\5lsm0_env\\lib\\site-packages (from jinja2->torch->-r requirements.txt (line 2)) (3.0.2)\n",
      "Requirement already satisfied: smmap<6,>=3.0.1 in c:\\users\\20192420\\appdata\\local\\anaconda3\\envs\\5lsm0_env\\lib\\site-packages (from gitdb<5,>=4.0.1->gitpython!=3.1.29,>=1.0.0->wandb->-r requirements.txt (line 13)) (5.0.2)\n",
      "Using cached sympy-1.13.1-py3-none-any.whl (6.2 MB)\n",
      "Downloading fsspec-2025.3.0-py3-none-any.whl (193 kB)\n",
      "Installing collected packages: sympy, fsspec\n",
      "  Attempting uninstall: sympy\n",
      "    Found existing installation: sympy 1.13.3\n",
      "    Uninstalling sympy-1.13.3:\n",
      "      Successfully uninstalled sympy-1.13.3\n",
      "Successfully installed fsspec-2025.3.0 sympy-1.13.1\n"
     ]
    }
   ],
   "source": [
    "! pip3 install -r requirements.txt"
   ]
  }
 ],
 "metadata": {
  "kernelspec": {
   "display_name": "5LSM0_env",
   "language": "python",
   "name": "python3"
  },
  "language_info": {
   "codemirror_mode": {
    "name": "ipython",
    "version": 3
   },
   "file_extension": ".py",
   "mimetype": "text/x-python",
   "name": "python",
   "nbconvert_exporter": "python",
   "pygments_lexer": "ipython3",
   "version": "3.11.11"
  }
 },
 "nbformat": 4,
 "nbformat_minor": 5
}
